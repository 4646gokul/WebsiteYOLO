{
 "cells": [
  {
   "cell_type": "markdown",
   "metadata": {},
   "source": [
    "### Unizipping UFDD files"
   ]
  },
  {
   "cell_type": "code",
   "execution_count": 1,
   "metadata": {},
   "outputs": [
    {
     "name": "stdout",
     "output_type": "stream",
     "text": [
      "README.txt\r\n",
      "\r\n",
      "- Title of Dataset: Unconstrained Face Detection Dataset(UFDD)\r\n",
      "- Filename: UFDD_val.zip, UFDD-annotationfile.zip, UFDD_information.zip, README.txt\r\n",
      "- Last Updated: May 11th, 2018\r\n",
      "- License \r\n",
      "  By downloading the UFDD dataset, you agree with the following terms:\r\n",
      "\r\n",
      "  1. You accept full responsibility for your use of the dataset. It includes but not limited to your use of any copies of images that you may create from the dataset.\r\n",
      "  2. You accept that the dataset and the terms of use may change at any time.\r\n",
      "  3. Our annotation files are released for academic use only. You agree to comply with the each image license by the authors listed in \"image_source.json\". \r\n",
      "  Note: while we tried to identify that the images are licensed under a Creative Commons Attribution license, we make no representations or warranties regarding the license status of each image and you should verify the license for each image yourself.\r\n",
      "\r\n",
      "- Contact Information:\r\n",
      "  Authors: Hajime Nada, Vishwanath Sindagi, He Zhang, Dr. Vishal M. Patel\r\n",
      "  Email: team.ufdd@gmail.com\r\n",
      "\r\n"
     ]
    }
   ],
   "source": [
    "! unzip -oq data/drive-download-20181101T191956Z-001.zip -d data/\n",
    "! unzip -oq data/UFDD-annotationfile.zip -d data/\n",
    "! unzip -oq data/UFDD_val.zip -d data/\n",
    "! unzip -oq data/UFDD_information.zip -d data/\n",
    "! cat data/README.txt"
   ]
  },
  {
   "cell_type": "code",
   "execution_count": 1,
   "metadata": {},
   "outputs": [
    {
     "name": "stdout",
     "output_type": "stream",
     "text": [
      "\u001b[01;34mdata/\u001b[00m\n",
      "├── README.txt\n",
      "├── \u001b[01;34mUFDD-annotationfile\u001b[00m\n",
      "│   └── \u001b[01;34mUFDD_split\u001b[00m\n",
      "│       ├── UFDD_val_bbx_gt-woDistractor.mat\n",
      "│       ├── UFDD_val_bbx_gt-woDistractor.txt\n",
      "│       ├── UFDD_val_bbx_gt.mat\n",
      "│       └── UFDD_val_bbx_gt.txt\n",
      "├── \u001b[01;31mUFDD-annotationfile.zip\u001b[00m\n",
      "├── \u001b[01;34mUFDD_information\u001b[00m\n",
      "│   ├── image_info.txt\n",
      "│   ├── image_info.txt~\n",
      "│   ├── image_number.txt~\n",
      "│   └── image_source.json\n",
      "├── \u001b[01;31mUFDD_information.zip\u001b[00m\n",
      "├── \u001b[01;34mUFDD_val\u001b[00m\n",
      "│   └── \u001b[01;34mimages\u001b[00m\n",
      "│       ├── \u001b[01;34mdistractor\u001b[00m [3450 entries exceeds filelimit, not opening dir]\n",
      "│       ├── \u001b[01;34mfocus\u001b[00m [205 entries exceeds filelimit, not opening dir]\n",
      "│       ├── \u001b[01;34mhaze\u001b[00m [442 entries exceeds filelimit, not opening dir]\n",
      "│       ├── \u001b[01;34millumination\u001b[00m [612 entries exceeds filelimit, not opening dir]\n",
      "│       ├── \u001b[01;34mlens\u001b[00m [95 entries exceeds filelimit, not opening dir]\n",
      "│       ├── \u001b[01;34mmotion\u001b[00m [312 entries exceeds filelimit, not opening dir]\n",
      "│       ├── \u001b[01;34mrain\u001b[00m [628 entries exceeds filelimit, not opening dir]\n",
      "│       └── \u001b[01;34msnow\u001b[00m [680 entries exceeds filelimit, not opening dir]\n",
      "├── \u001b[01;31mUFDD_val.zip\u001b[00m\n",
      "└── \u001b[01;31mdrive-download-20181101T191956Z-001.zip\u001b[00m\n",
      "\n",
      "13 directories, 13 files\n"
     ]
    }
   ],
   "source": [
    "# ! sudo apt-get install tree\n",
    "! tree data/ --filelimit=8"
   ]
  },
  {
   "cell_type": "markdown",
   "metadata": {},
   "source": [
    "### Let's take a look at some files"
   ]
  },
  {
   "cell_type": "code",
   "execution_count": 2,
   "metadata": {},
   "outputs": [
    {
     "name": "stdout",
     "output_type": "stream",
     "text": [
      "image_info.txt\r\n",
      "\r\n",
      " -Title of Dataset: Unconstrained Face Detection Dataset(UFDD)\r\n",
      "\r\n",
      " -Last Updated: May 11th, 2018\r\n",
      "\r\n",
      " -Number of Images: 6424 with 10895 face annotation(bounding box)\r\n",
      "\r\n",
      " -Number of Each Condition:\r\n",
      "  Rain: 628\r\n",
      "  Snow: 680\r\n",
      "  Haze: 442\r\n",
      "  Blur(Motion Blur + Focus Blur): 517\r\n",
      "  Illumination: 612\r\n",
      "  Lens distortion:95\r\n",
      "  Distractors: 3450\r\n",
      "\r\n",
      " -Type of Distractors(UFDD has 150 image for each type.):\r\n",
      "  23 Types:\r\n",
      "  Bear, Cake, Cat, Cloth, Cow, Dog, Elephant, Fruits, Geometric Pattern, Giraffe, \r\n",
      "  Hands, Horse, hotdog and sandwitch, Hydrant and traffic sign, Monkey,   \r\n",
      "  Occiput and Helmet, Pizza, Plant, Sheep, Teddybear, Vague resion, Vehicle, Zebra\r\n",
      "\r\n",
      "\r\n"
     ]
    }
   ],
   "source": [
    "! cat data/UFDD_information/image_info.txt # the same in `image_number.txt~`"
   ]
  },
  {
   "cell_type": "code",
   "execution_count": 3,
   "metadata": {},
   "outputs": [],
   "source": [
    "# image meta information\n",
    "# ! cat data/UFDD_information/image_source.json"
   ]
  },
  {
   "cell_type": "code",
   "execution_count": 4,
   "metadata": {
    "scrolled": true
   },
   "outputs": [
    {
     "name": "stdout",
     "output_type": "stream",
     "text": [
      "1\r\n",
      "106 377 9 11 0 0 0 0 0\r\n",
      "lens/lens_03503.jpg\r\n",
      "1\r\n",
      "183 473 145 149 0 0 0 0 0\r\n",
      "lens/lens_03504.jpg\r\n",
      "1\r\n",
      "254 112 496 566 0 0 0 0 0\r\n",
      "lens/lens_03505.jpg\r\n",
      "1\r\n",
      "499 175 296 265 0 0 0 0 0\r\n",
      "lens/lens_03506.jpg\r\n",
      "1\r\n",
      "1 33 396 483 0 0 0 0 0\r\n",
      "lens/lens_03507.jpg\r\n",
      "1\r\n",
      "455 202 161 155 0 0 0 0 0\r\n",
      "rain/rain_03508.jpg\r\n",
      "1\r\n",
      "678 209 23 29 0 0 0 0 0\r\n"
     ]
    }
   ],
   "source": [
    "! tail -n 20 data/UFDD-annotationfile/UFDD_split/UFDD_val_bbx_gt.txt"
   ]
  },
  {
   "cell_type": "code",
   "execution_count": 5,
   "metadata": {},
   "outputs": [],
   "source": [
    "import scipy.io\n",
    "mat = scipy.io.loadmat('data/UFDD-annotationfile/UFDD_split/UFDD_val_bbx_gt.mat')"
   ]
  },
  {
   "cell_type": "markdown",
   "metadata": {},
   "source": [
    "Fields"
   ]
  },
  {
   "cell_type": "code",
   "execution_count": 6,
   "metadata": {},
   "outputs": [
    {
     "data": {
      "text/plain": [
       "dict_keys(['event_list', 'gt_list', '__version__', 'face_bbx_list', '__globals__', '__header__', 'file_list'])"
      ]
     },
     "execution_count": 6,
     "metadata": {},
     "output_type": "execute_result"
    }
   ],
   "source": [
    "mat.keys()"
   ]
  },
  {
   "cell_type": "markdown",
   "metadata": {},
   "source": [
    "GT bboxes"
   ]
  },
  {
   "cell_type": "code",
   "execution_count": 7,
   "metadata": {},
   "outputs": [
    {
     "name": "stdout",
     "output_type": "stream",
     "text": [
      "[[array([[484, 323, 101, 141]], dtype=uint16)]\n",
      " [array([[229, 339,  65,  71]], dtype=uint16)]\n",
      " [array([[438, 353,  21,  20]], dtype=uint16)]\n",
      " [array([[ 97,  62, 115, 128],\n",
      "       [216,  56,  88, 106],\n",
      "       [535, 163, 107,  67],\n",
      "       [415, 470,  82,  59]], dtype=uint16)]\n",
      " [array([[474, 190,  74, 102]], dtype=uint16)]]\n",
      "[[array([[195, 235, 167, 237]], dtype=uint8)]\n",
      " [array([[252,  75, 425, 567]], dtype=uint16)]\n",
      " [array([[438, 196, 197, 269]], dtype=uint16)]\n",
      " [array([[410, 138, 211, 155]], dtype=uint16)]\n",
      " [array([[573, 392,  53, 105],\n",
      "       [536, 350,  54, 120]], dtype=uint16)]]\n"
     ]
    }
   ],
   "source": [
    "print(mat['face_bbx_list'][0][0][:5]) # rain\n",
    "print(mat['face_bbx_list'][1][0][:5]) # lens distortion"
   ]
  },
  {
   "cell_type": "markdown",
   "metadata": {},
   "source": [
    "Filenames"
   ]
  },
  {
   "cell_type": "code",
   "execution_count": 8,
   "metadata": {},
   "outputs": [
    {
     "name": "stdout",
     "output_type": "stream",
     "text": [
      "[[array(['rain_00001'], dtype='<U10')]\n",
      " [array(['rain_00003'], dtype='<U10')]\n",
      " [array(['rain_00004'], dtype='<U10')]\n",
      " [array(['rain_00005'], dtype='<U10')]\n",
      " [array(['rain_00006'], dtype='<U10')]]\n",
      "[[array(['lens_00012'], dtype='<U10')]\n",
      " [array(['lens_00013'], dtype='<U10')]\n",
      " [array(['lens_00014'], dtype='<U10')]\n",
      " [array(['lens_00121'], dtype='<U10')]\n",
      " [array(['lens_00122'], dtype='<U10')]]\n"
     ]
    }
   ],
   "source": [
    "print(mat['file_list'][0][0][:5]) # rain\n",
    "print(mat['file_list'][1][0][:5]) # lens distortion"
   ]
  },
  {
   "cell_type": "markdown",
   "metadata": {},
   "source": [
    "How many faces are on the corresponding image"
   ]
  },
  {
   "cell_type": "code",
   "execution_count": 9,
   "metadata": {},
   "outputs": [
    {
     "name": "stdout",
     "output_type": "stream",
     "text": [
      "[[array([[1]], dtype=uint8)]\n",
      " [array([[1]], dtype=uint8)]\n",
      " [array([[1]], dtype=uint8)]\n",
      " [array([[1],\n",
      "       [2],\n",
      "       [3],\n",
      "       [4]], dtype=uint8)]\n",
      " [array([[1]], dtype=uint8)]]\n",
      "[[array([[1]], dtype=uint8)]\n",
      " [array([[1]], dtype=uint8)]\n",
      " [array([[1]], dtype=uint8)]\n",
      " [array([[1]], dtype=uint8)]\n",
      " [array([[1],\n",
      "       [2]], dtype=uint8)]]\n"
     ]
    }
   ],
   "source": [
    "print(mat['gt_list'][0][0][:5]) # rain\n",
    "print(mat['gt_list'][1][0][:5]) # lens distortion"
   ]
  },
  {
   "cell_type": "markdown",
   "metadata": {},
   "source": [
    "Condition list"
   ]
  },
  {
   "cell_type": "code",
   "execution_count": 10,
   "metadata": {},
   "outputs": [
    {
     "data": {
      "text/plain": [
       "array([[array(['rain'], dtype='<U4')],\n",
       "       [array(['lens'], dtype='<U4')],\n",
       "       [array(['focus'], dtype='<U5')],\n",
       "       [array(['illumination'], dtype='<U12')],\n",
       "       [array(['motion'], dtype='<U6')],\n",
       "       [array(['snow'], dtype='<U4')],\n",
       "       [array(['haze'], dtype='<U4')],\n",
       "       [array(['distractor'], dtype='<U10')]], dtype=object)"
      ]
     },
     "execution_count": 10,
     "metadata": {},
     "output_type": "execute_result"
    }
   ],
   "source": [
    "mat['event_list']"
   ]
  },
  {
   "cell_type": "markdown",
   "metadata": {},
   "source": [
    "### MATLAB... Meh. Let's create a pandas dataframe with metadata (filepath | gt_bbox | type)"
   ]
  },
  {
   "cell_type": "code",
   "execution_count": 11,
   "metadata": {},
   "outputs": [],
   "source": [
    "import pandas as pd\n",
    "import numpy as np"
   ]
  },
  {
   "cell_type": "code",
   "execution_count": 12,
   "metadata": {},
   "outputs": [
    {
     "data": {
      "text/html": [
       "<div>\n",
       "<style scoped>\n",
       "    .dataframe tbody tr th:only-of-type {\n",
       "        vertical-align: middle;\n",
       "    }\n",
       "\n",
       "    .dataframe tbody tr th {\n",
       "        vertical-align: top;\n",
       "    }\n",
       "\n",
       "    .dataframe thead th {\n",
       "        text-align: right;\n",
       "    }\n",
       "</style>\n",
       "<table border=\"1\" class=\"dataframe\">\n",
       "  <thead>\n",
       "    <tr style=\"text-align: right;\">\n",
       "      <th></th>\n",
       "      <th>file_name</th>\n",
       "      <th>gt_bboxes</th>\n",
       "      <th>type</th>\n",
       "    </tr>\n",
       "  </thead>\n",
       "  <tbody>\n",
       "    <tr>\n",
       "      <th>0</th>\n",
       "      <td>[rain_00001]</td>\n",
       "      <td>[[484, 323, 101, 141]]</td>\n",
       "      <td>rain</td>\n",
       "    </tr>\n",
       "    <tr>\n",
       "      <th>1</th>\n",
       "      <td>[rain_00003]</td>\n",
       "      <td>[[229, 339, 65, 71]]</td>\n",
       "      <td>rain</td>\n",
       "    </tr>\n",
       "    <tr>\n",
       "      <th>2</th>\n",
       "      <td>[rain_00004]</td>\n",
       "      <td>[[438, 353, 21, 20]]</td>\n",
       "      <td>rain</td>\n",
       "    </tr>\n",
       "    <tr>\n",
       "      <th>3</th>\n",
       "      <td>[rain_00005]</td>\n",
       "      <td>[[97, 62, 115, 128], [216, 56, 88, 106], [535,...</td>\n",
       "      <td>rain</td>\n",
       "    </tr>\n",
       "    <tr>\n",
       "      <th>4</th>\n",
       "      <td>[rain_00006]</td>\n",
       "      <td>[[474, 190, 74, 102]]</td>\n",
       "      <td>rain</td>\n",
       "    </tr>\n",
       "  </tbody>\n",
       "</table>\n",
       "</div>"
      ],
      "text/plain": [
       "      file_name                                          gt_bboxes  type\n",
       "0  [rain_00001]                             [[484, 323, 101, 141]]  rain\n",
       "1  [rain_00003]                               [[229, 339, 65, 71]]  rain\n",
       "2  [rain_00004]                               [[438, 353, 21, 20]]  rain\n",
       "3  [rain_00005]  [[97, 62, 115, 128], [216, 56, 88, 106], [535,...  rain\n",
       "4  [rain_00006]                              [[474, 190, 74, 102]]  rain"
      ]
     },
     "execution_count": 12,
     "metadata": {},
     "output_type": "execute_result"
    }
   ],
   "source": [
    "rain = pd.DataFrame({\n",
    "    'type': np.repeat('rain', len(mat['file_list'][0][0])),\n",
    "    'file_name': mat['file_list'][0][0].reshape(-1), \n",
    "    'gt_bboxes': mat['face_bbx_list'][0][0].reshape(-1)\n",
    "})\n",
    "lens = pd.DataFrame({\n",
    "    'type': np.repeat('lens', len(mat['file_list'][1][0])),\n",
    "    'file_name': mat['file_list'][1][0].reshape(-1), \n",
    "    'gt_bboxes': mat['face_bbx_list'][1][0].reshape(-1)\n",
    "})\n",
    "focus = pd.DataFrame({\n",
    "    'type': np.repeat('focus', len(mat['file_list'][2][0])),\n",
    "    'file_name': mat['file_list'][2][0].reshape(-1), \n",
    "    'gt_bboxes': mat['face_bbx_list'][2][0].reshape(-1)\n",
    "})\n",
    "illumination = pd.DataFrame({\n",
    "    'type': np.repeat('illumination', len(mat['file_list'][3][0])),\n",
    "    'file_name': mat['file_list'][3][0].reshape(-1), \n",
    "    'gt_bboxes': mat['face_bbx_list'][3][0].reshape(-1)\n",
    "})\n",
    "motion = pd.DataFrame({\n",
    "    'type': np.repeat('motion', len(mat['file_list'][4][0])),\n",
    "    'file_name': mat['file_list'][4][0].reshape(-1), \n",
    "    'gt_bboxes': mat['face_bbx_list'][4][0].reshape(-1)\n",
    "})\n",
    "snow = pd.DataFrame({\n",
    "    'type': np.repeat('snow', len(mat['file_list'][5][0])),\n",
    "    'file_name': mat['file_list'][5][0].reshape(-1), \n",
    "    'gt_bboxes': mat['face_bbx_list'][5][0].reshape(-1)\n",
    "})\n",
    "haze = pd.DataFrame({\n",
    "    'type': np.repeat('haze', len(mat['file_list'][6][0])),\n",
    "    'file_name': mat['file_list'][6][0].reshape(-1), \n",
    "    'gt_bboxes': mat['face_bbx_list'][6][0].reshape(-1)\n",
    "})\n",
    "distractor = pd.DataFrame({\n",
    "    'type': np.repeat('distractor', len(mat['file_list'][7][0])),\n",
    "    'file_name': mat['file_list'][7][0].reshape(-1), \n",
    "    'gt_bboxes': mat['face_bbx_list'][7][0].reshape(-1)\n",
    "})\n",
    "\n",
    "meta = pd.concat([\n",
    "    rain,\n",
    "    lens,\n",
    "    focus,\n",
    "    illumination,\n",
    "    motion,\n",
    "    snow,\n",
    "    distractor\n",
    "])\n",
    "\n",
    "meta.head()"
   ]
  },
  {
   "cell_type": "code",
   "execution_count": 13,
   "metadata": {},
   "outputs": [
    {
     "data": {
      "text/html": [
       "<div>\n",
       "<style scoped>\n",
       "    .dataframe tbody tr th:only-of-type {\n",
       "        vertical-align: middle;\n",
       "    }\n",
       "\n",
       "    .dataframe tbody tr th {\n",
       "        vertical-align: top;\n",
       "    }\n",
       "\n",
       "    .dataframe thead th {\n",
       "        text-align: right;\n",
       "    }\n",
       "</style>\n",
       "<table border=\"1\" class=\"dataframe\">\n",
       "  <thead>\n",
       "    <tr style=\"text-align: right;\">\n",
       "      <th></th>\n",
       "      <th>file_name</th>\n",
       "      <th>gt_bboxes</th>\n",
       "      <th>type</th>\n",
       "    </tr>\n",
       "  </thead>\n",
       "  <tbody>\n",
       "    <tr>\n",
       "      <th>0</th>\n",
       "      <td>rain_00001</td>\n",
       "      <td>[[484, 323, 101, 141]]</td>\n",
       "      <td>rain</td>\n",
       "    </tr>\n",
       "    <tr>\n",
       "      <th>1</th>\n",
       "      <td>rain_00003</td>\n",
       "      <td>[[229, 339, 65, 71]]</td>\n",
       "      <td>rain</td>\n",
       "    </tr>\n",
       "    <tr>\n",
       "      <th>2</th>\n",
       "      <td>rain_00004</td>\n",
       "      <td>[[438, 353, 21, 20]]</td>\n",
       "      <td>rain</td>\n",
       "    </tr>\n",
       "    <tr>\n",
       "      <th>3</th>\n",
       "      <td>rain_00005</td>\n",
       "      <td>[[97, 62, 115, 128], [216, 56, 88, 106], [535,...</td>\n",
       "      <td>rain</td>\n",
       "    </tr>\n",
       "    <tr>\n",
       "      <th>4</th>\n",
       "      <td>rain_00006</td>\n",
       "      <td>[[474, 190, 74, 102]]</td>\n",
       "      <td>rain</td>\n",
       "    </tr>\n",
       "  </tbody>\n",
       "</table>\n",
       "</div>"
      ],
      "text/plain": [
       "    file_name                                          gt_bboxes  type\n",
       "0  rain_00001                             [[484, 323, 101, 141]]  rain\n",
       "1  rain_00003                               [[229, 339, 65, 71]]  rain\n",
       "2  rain_00004                               [[438, 353, 21, 20]]  rain\n",
       "3  rain_00005  [[97, 62, 115, 128], [216, 56, 88, 106], [535,...  rain\n",
       "4  rain_00006                              [[474, 190, 74, 102]]  rain"
      ]
     },
     "execution_count": 13,
     "metadata": {},
     "output_type": "execute_result"
    }
   ],
   "source": [
    "meta['file_name'] = meta['file_name'].apply(lambda x: x[0])\n",
    "meta.head()"
   ]
  },
  {
   "cell_type": "code",
   "execution_count": 18,
   "metadata": {},
   "outputs": [
    {
     "data": {
      "text/html": [
       "<div>\n",
       "<style scoped>\n",
       "    .dataframe tbody tr th:only-of-type {\n",
       "        vertical-align: middle;\n",
       "    }\n",
       "\n",
       "    .dataframe tbody tr th {\n",
       "        vertical-align: top;\n",
       "    }\n",
       "\n",
       "    .dataframe thead th {\n",
       "        text-align: right;\n",
       "    }\n",
       "</style>\n",
       "<table border=\"1\" class=\"dataframe\">\n",
       "  <thead>\n",
       "    <tr style=\"text-align: right;\">\n",
       "      <th></th>\n",
       "      <th>file_name</th>\n",
       "      <th>gt_bboxes</th>\n",
       "      <th>type</th>\n",
       "    </tr>\n",
       "  </thead>\n",
       "  <tbody>\n",
       "    <tr>\n",
       "      <th>0</th>\n",
       "      <td>rain_00001</td>\n",
       "      <td>[[484 323 101 141]]</td>\n",
       "      <td>rain</td>\n",
       "    </tr>\n",
       "    <tr>\n",
       "      <th>1</th>\n",
       "      <td>rain_00003</td>\n",
       "      <td>[[229 339  65  71]]</td>\n",
       "      <td>rain</td>\n",
       "    </tr>\n",
       "    <tr>\n",
       "      <th>2</th>\n",
       "      <td>rain_00004</td>\n",
       "      <td>[[438 353  21  20]]</td>\n",
       "      <td>rain</td>\n",
       "    </tr>\n",
       "    <tr>\n",
       "      <th>3</th>\n",
       "      <td>rain_00005</td>\n",
       "      <td>[[ 97  62 115 128]\\n [216  56  88 106]\\n [535 ...</td>\n",
       "      <td>rain</td>\n",
       "    </tr>\n",
       "    <tr>\n",
       "      <th>4</th>\n",
       "      <td>rain_00006</td>\n",
       "      <td>[[474 190  74 102]]</td>\n",
       "      <td>rain</td>\n",
       "    </tr>\n",
       "  </tbody>\n",
       "</table>\n",
       "</div>"
      ],
      "text/plain": [
       "    file_name                                          gt_bboxes  type\n",
       "0  rain_00001                                [[484 323 101 141]]  rain\n",
       "1  rain_00003                                [[229 339  65  71]]  rain\n",
       "2  rain_00004                                [[438 353  21  20]]  rain\n",
       "3  rain_00005  [[ 97  62 115 128]\\n [216  56  88 106]\\n [535 ...  rain\n",
       "4  rain_00006                                [[474 190  74 102]]  rain"
      ]
     },
     "execution_count": 18,
     "metadata": {},
     "output_type": "execute_result"
    }
   ],
   "source": [
    "meta.to_csv('meta.csv', index=False)\n",
    "meta_ = pd.read_csv('meta.csv')\n",
    "meta_.head()"
   ]
  }
 ],
 "metadata": {
  "kernelspec": {
   "display_name": "Python 3",
   "language": "python",
   "name": "python3"
  },
  "language_info": {
   "codemirror_mode": {
    "name": "ipython",
    "version": 3
   },
   "file_extension": ".py",
   "mimetype": "text/x-python",
   "name": "python",
   "nbconvert_exporter": "python",
   "pygments_lexer": "ipython3",
   "version": "3.5.2"
  }
 },
 "nbformat": 4,
 "nbformat_minor": 2
}
