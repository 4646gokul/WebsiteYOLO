{
 "cells": [
  {
   "cell_type": "code",
   "execution_count": 1,
   "metadata": {},
   "outputs": [],
   "source": [
    "# todo: check the model cfg: augmentations, policy"
   ]
  },
  {
   "cell_type": "code",
   "execution_count": 1,
   "metadata": {},
   "outputs": [
    {
     "name": "stdout",
     "output_type": "stream",
     "text": [
      "WARNING: sudivisions of a batch aren't used in contrast to the original cfg\n",
      "we also can remove bias due to bn\n",
      "make_layers returns net_info as well. check whether it\"s necessary\n",
      "shortcut is using output[i-1] instead of x check whether works with x\n",
      "NOTE THAT CONV BEFORE YOLO USES (num_classes filters) * num_anch\n",
      "changing predictions in the nms loop make sure that it is not used later\n",
      "not adding +1 in nms\n"
     ]
    },
    {
     "name": "stderr",
     "output_type": "stream",
     "text": [
      "/miniconda3/envs/main/lib/python3.5/site-packages/torch/nn/modules/upsampling.py:129: UserWarning: nn.Upsample is deprecated. Use nn.functional.interpolate instead.\n",
      "  warnings.warn(\"nn.{} is deprecated. Use nn.functional.interpolate instead.\".format(self.name))\n",
      "/miniconda3/envs/main/lib/python3.5/site-packages/torch/nn/functional.py:2423: UserWarning: Default upsampling behavior when mode=bilinear is changed to align_corners=False since 0.4.0. Please specify align_corners=True if the old behavior is desired. See the documentation of nn.Upsample for details.\n",
      "  \"See the documentation of nn.Upsample for details.\".format(mode))\n"
     ]
    },
    {
     "name": "stdout",
     "output_type": "stream",
     "text": [
      "torch.Size([1, 10647, 85])\n",
      "torch.Size([20, 1]) torch.Size([20, 85]) should be the same (B, P, 1/85)\n",
      "torch.Size([7, 7])\n"
     ]
    }
   ],
   "source": [
    "from tqdm import tqdm\n",
    "import numpy as np\n",
    "import cv2\n",
    "from matplotlib import pyplot as plt\n",
    "from matplotlib.colors import Normalize\n",
    "from matplotlib import cm as colormap\n",
    "\n",
    "###\n",
    "import torch\n",
    "from torch import nn\n",
    "from utils import parse_cfg, predict_and_save\n",
    "from darknet import Darknet\n",
    "\n",
    "###\n",
    "darknet = Darknet('cfg/yolov3_416x416.cfg')\n",
    "weight_file = 'weights/yolov3.weights'\n",
    "darknet.load_weights(weight_file)\n",
    "darknet.eval();\n",
    "\n",
    "###\n",
    "device = torch.device('cpu:0')\n",
    "model = darknet\n",
    "labels_path='./data/coco.names'\n",
    "img_path = 'dog-cycle-car.png'\n",
    "# img_path = 'people_outside.jpg'\n",
    "# img_path = 'city_hall.jpg'\n",
    "# img_path = '../../../../Screenshot 2019-03-16 at 21.51.49.png'\n",
    "# img_path = '../../../../lT5TP3HVQkE.jpg'\n",
    "img_path = 'planes.jpg'\n",
    "save_path = './output.jpg'\n",
    "show = True\n",
    "\n",
    "###\n",
    "predict_and_save(img_path, save_path, model, device, labels_path, show)"
   ]
  },
  {
   "cell_type": "code",
   "execution_count": null,
   "metadata": {},
   "outputs": [],
   "source": []
  }
 ],
 "metadata": {
  "kernelspec": {
   "display_name": "Python 3",
   "language": "python",
   "name": "python3"
  },
  "language_info": {
   "codemirror_mode": {
    "name": "ipython",
    "version": 3
   },
   "file_extension": ".py",
   "mimetype": "text/x-python",
   "name": "python",
   "nbconvert_exporter": "python",
   "pygments_lexer": "ipython3",
   "version": "3.5.6"
  }
 },
 "nbformat": 4,
 "nbformat_minor": 2
}
