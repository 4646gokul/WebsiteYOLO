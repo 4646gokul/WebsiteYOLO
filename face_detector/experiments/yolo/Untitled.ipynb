{
 "cells": [
  {
   "cell_type": "code",
   "execution_count": 1,
   "metadata": {},
   "outputs": [],
   "source": [
    "# todo: check the model cfg: augmentations, policy"
   ]
  },
  {
   "cell_type": "code",
   "execution_count": 1,
   "metadata": {},
   "outputs": [],
   "source": [
    "from tqdm import tqdm\n",
    "import numpy as np\n",
    "\n",
    "import torch\n",
    "from torch import nn\n",
    "from utils import parse_cfg, iou_vectorized\n",
    "from darknet import Darknet"
   ]
  },
  {
   "cell_type": "code",
   "execution_count": 2,
   "metadata": {},
   "outputs": [
    {
     "name": "stdout",
     "output_type": "stream",
     "text": [
      "WARNING: sudivisions of a batch aren't used in contrast to the original cfg\n",
      "we also can remove bias due to bn\n",
      "make_layers returns net_info as well. check whether it\"s necessary\n",
      "shortcut is using output[i-1] instead of x check whether works with x\n",
      "NOTE THAT CONV BEFORE YOLO USES (num_classes filters) * num_anch\n"
     ]
    }
   ],
   "source": [
    "darknet = Darknet('cfg/yolov3_test_todel.cfg')"
   ]
  },
  {
   "cell_type": "code",
   "execution_count": 3,
   "metadata": {},
   "outputs": [
    {
     "name": "stderr",
     "output_type": "stream",
     "text": [
      "/miniconda3/envs/main/lib/python3.5/site-packages/torch/nn/modules/upsampling.py:129: UserWarning: nn.Upsample is deprecated. Use nn.functional.interpolate instead.\n",
      "  warnings.warn(\"nn.{} is deprecated. Use nn.functional.interpolate instead.\".format(self.name))\n",
      "/miniconda3/envs/main/lib/python3.5/site-packages/torch/nn/functional.py:2423: UserWarning: Default upsampling behavior when mode=bilinear is changed to align_corners=False since 0.4.0. Please specify align_corners=True if the old behavior is desired. See the documentation of nn.Upsample for details.\n",
      "  \"See the documentation of nn.Upsample for details.\".format(mode))\n"
     ]
    },
    {
     "data": {
      "text/plain": [
       "torch.Size([2, 10647, 85])"
      ]
     },
     "execution_count": 3,
     "metadata": {},
     "output_type": "execute_result"
    }
   ],
   "source": [
    "x = torch.randn((2, 3, 416, 416))\n",
    "darknet.forward(x, 'cpu').shape"
   ]
  },
  {
   "cell_type": "code",
   "execution_count": 4,
   "metadata": {},
   "outputs": [],
   "source": [
    "weight_file = 'weights/yolov3.weights'\n",
    "darknet.load_weights(weight_file)"
   ]
  },
  {
   "cell_type": "code",
   "execution_count": 5,
   "metadata": {},
   "outputs": [
    {
     "name": "stderr",
     "output_type": "stream",
     "text": [
      "/miniconda3/envs/main/lib/python3.5/site-packages/torch/nn/modules/upsampling.py:129: UserWarning: nn.Upsample is deprecated. Use nn.functional.interpolate instead.\n",
      "  warnings.warn(\"nn.{} is deprecated. Use nn.functional.interpolate instead.\".format(self.name))\n",
      "/miniconda3/envs/main/lib/python3.5/site-packages/torch/nn/functional.py:2423: UserWarning: Default upsampling behavior when mode=bilinear is changed to align_corners=False since 0.4.0. Please specify align_corners=True if the old behavior is desired. See the documentation of nn.Upsample for details.\n",
      "  \"See the documentation of nn.Upsample for details.\".format(mode))\n"
     ]
    }
   ],
   "source": [
    "# todo nms\n",
    "x = torch.randn((2, 3, 416, 416))\n",
    "device = torch.device('cpu:0')\n",
    "predictions = darknet.forward(x, device)\n",
    "predictions[:, :, 4] *= 1000 # to be removed. just for testing\n",
    "objectness_thres = 0.2\n",
    "nms_thres = 0.4\n",
    "classes = 80 # darknet.layers_list[-1][0].classes"
   ]
  },
  {
   "cell_type": "code",
   "execution_count": 6,
   "metadata": {},
   "outputs": [
    {
     "data": {
      "text/plain": [
       "tensor([[1.0000],\n",
       "        [0.0667],\n",
       "        [0.0909],\n",
       "        [0.0000],\n",
       "        [0.0000]])"
      ]
     },
     "execution_count": 6,
     "metadata": {},
     "output_type": "execute_result"
    }
   ],
   "source": [
    "bboxes1 = torch.Tensor([(6, 5, 4, 2), (3, 6, 4, 2), (8, 4, 2, 8), (11, 7, 2, 2), (8, 0, 4, 2)]).float()\n",
    "bboxes2 = bboxes1[0].unsqueeze(0)\n",
    "\n",
    "iou_vectorized(bboxes1, bboxes2)"
   ]
  },
  {
   "cell_type": "code",
   "execution_count": 7,
   "metadata": {},
   "outputs": [],
   "source": [
    "# Non-max Suppression:\n",
    "# 1. Filter out predictions with low objectness score\n",
    "# 2. \n",
    "# objectiveness filtering:\n",
    "# replace all boxes with predicted probability lower than objectness_thres \n",
    "# with zeros: calculate 0/1 mask and apply it to the prediction tensor\n",
    "# Note: '>' returns Byte but '*' needs Float unsqueezed back to 3D\n",
    "# objectness_mask = (predictions[:, :, 4] > objectness_thres).float().unsqueeze(2)\n",
    "# predictions = predictions * objectness_mask\n",
    "\n",
    "# # \n",
    "\n",
    "\n",
    "# image_pred = predictions[0]\n",
    "# image_pred.shape"
   ]
  },
  {
   "cell_type": "code",
   "execution_count": 14,
   "metadata": {},
   "outputs": [
    {
     "name": "stderr",
     "output_type": "stream",
     "text": [
      " 54%|█████▍    | 28/52 [00:00<00:00, 156.98it/s]"
     ]
    },
    {
     "name": "stdout",
     "output_type": "stream",
     "text": [
      "changing predictions in the nms loop make sure that it is not used later\n",
      "torch.Size([1420, 85])\n"
     ]
    },
    {
     "name": "stderr",
     "output_type": "stream",
     "text": [
      "100%|██████████| 52/52 [00:00<00:00, 131.49it/s]\n",
      " 60%|██████    | 33/55 [00:00<00:00, 311.90it/s]"
     ]
    },
    {
     "name": "stdout",
     "output_type": "stream",
     "text": [
      "torch.Size([1353, 85])\n"
     ]
    },
    {
     "name": "stderr",
     "output_type": "stream",
     "text": [
      "100%|██████████| 55/55 [00:00<00:00, 140.34it/s]\n"
     ]
    }
   ],
   "source": [
    "print('changing predictions in the nms loop make sure that it is not used later')\n",
    "\n",
    "detections = [None] * len(predictions)\n",
    "\n",
    "for i, prediction in enumerate(predictions):\n",
    "#     print(prediction.shape)\n",
    "    objectness_mask = (prediction[:, 4] > objectness_thres)#.float().unsqueeze(1)\n",
    "    prediction = prediction[objectness_mask]\n",
    "    \n",
    "    # if no object on an image found, continue with the next image\n",
    "    if prediction.size(0) == 0:\n",
    "        continue\n",
    "        \n",
    "    print(prediction.shape)\n",
    "    pred_score, pred_classes = torch.max(prediction[:, 5:5+classes], dim=1, keepdim=True)\n",
    "#     print(pred_classes.shape, pred_score.shape)\n",
    "    # detections: (cx, cy, w, h, obj_score, top_class_score, top_class_idx)\n",
    "    prediction = torch.cat((prediction[:, :5], pred_score.float(), pred_classes.float()), dim=1)\n",
    "#     print(prediction.shape)\n",
    "    unique_classes = pred_classes.unique().float()\n",
    "#     print(unique_classes.shape)\n",
    "    \n",
    "    detections_after_nms = []\n",
    "    \n",
    "    for cls in tqdm(unique_classes):\n",
    "        prediction_4_cls = prediction[prediction[:, 6] == cls]\n",
    "        sort_pred_idxs = torch.sort(prediction_4_cls[:, 4], descending=True)[1]\n",
    "        prediction_4_cls = prediction_4_cls[sort_pred_idxs]          \n",
    "        \n",
    "        while len(prediction_4_cls) > 0:\n",
    "            detections_after_nms.append(prediction_4_cls[0].unsqueeze(0))\n",
    "            \n",
    "            if len(prediction_4_cls) == 1:\n",
    "                break\n",
    "            \n",
    "#             print('prediction_4_cls[0, :5].shape, prediction_4_cls[1:, :5].shape')\n",
    "#             print(prediction_4_cls[0, :5].shape, prediction_4_cls[1:, :5].shape)\n",
    "            iou = iou_vectorized(prediction_4_cls[0, :5].unsqueeze(0), prediction_4_cls[1:, :5])\n",
    "            iou = iou.reshape(-1)\n",
    "#             print(iou.shape)\n",
    "#             print('iou < nms_thres')\n",
    "#             print(iou < nms_thres)\n",
    "#             print(iou.shape)\n",
    "            prediction_4_cls = prediction_4_cls[1:][iou < nms_thres]\n",
    "            \n",
    "        # append to detections"
   ]
  },
  {
   "cell_type": "code",
   "execution_count": null,
   "metadata": {},
   "outputs": [],
   "source": [
    "from matplotlib import pyplot as plt\n",
    "import cv2\n",
    "\n",
    "plt.figure()\n",
    "img = cv2.imread('dog-cycle-car.png')\n",
    "img = cv2.cvtColor(img, cv2.COLOR_BGR2RGB)\n",
    "print(img.shape)\n",
    "img = cv2.resize(img, (416, 416)) / 255\n",
    "plt.imshow(img)\n",
    "plt.show()\n",
    "img = img.transpose((2, 0, 1))\n",
    "img = torch.from_numpy(img).float()\n",
    "img = img.unsqueeze(0)\n",
    "print(img.shape)\n",
    "pred = darknet.forward(img, 'cpu')\n",
    "pred"
   ]
  },
  {
   "cell_type": "code",
   "execution_count": 7,
   "metadata": {},
   "outputs": [
    {
     "ename": "AttributeError",
     "evalue": "'Darknet' object has no attribute 'numel'",
     "output_type": "error",
     "traceback": [
      "\u001b[0;31m---------------------------------------------------------------------------\u001b[0m",
      "\u001b[0;31mAttributeError\u001b[0m                            Traceback (most recent call last)",
      "\u001b[0;32m<ipython-input-7-86e5c7b95049>\u001b[0m in \u001b[0;36m<module>\u001b[0;34m()\u001b[0m\n\u001b[0;32m----> 1\u001b[0;31m \u001b[0msum\u001b[0m\u001b[0;34m(\u001b[0m\u001b[0mp\u001b[0m\u001b[0;34m.\u001b[0m\u001b[0mnumel\u001b[0m\u001b[0;34m(\u001b[0m\u001b[0;34m)\u001b[0m \u001b[0;32mfor\u001b[0m \u001b[0mp\u001b[0m \u001b[0;32min\u001b[0m \u001b[0mdarknet\u001b[0m\u001b[0;34m.\u001b[0m\u001b[0mnumel\u001b[0m\u001b[0;34m(\u001b[0m\u001b[0;34m)\u001b[0m \u001b[0;32mif\u001b[0m \u001b[0mp\u001b[0m\u001b[0;34m.\u001b[0m\u001b[0mrequires_grad\u001b[0m\u001b[0;34m)\u001b[0m\u001b[0;34m\u001b[0m\u001b[0m\n\u001b[0m",
      "\u001b[0;32m/miniconda3/envs/main/lib/python3.5/site-packages/torch/nn/modules/module.py\u001b[0m in \u001b[0;36m__getattr__\u001b[0;34m(self, name)\u001b[0m\n\u001b[1;32m    533\u001b[0m                 \u001b[0;32mreturn\u001b[0m \u001b[0mmodules\u001b[0m\u001b[0;34m[\u001b[0m\u001b[0mname\u001b[0m\u001b[0;34m]\u001b[0m\u001b[0;34m\u001b[0m\u001b[0m\n\u001b[1;32m    534\u001b[0m         raise AttributeError(\"'{}' object has no attribute '{}'\".format(\n\u001b[0;32m--> 535\u001b[0;31m             type(self).__name__, name))\n\u001b[0m\u001b[1;32m    536\u001b[0m \u001b[0;34m\u001b[0m\u001b[0m\n\u001b[1;32m    537\u001b[0m     \u001b[0;32mdef\u001b[0m \u001b[0m__setattr__\u001b[0m\u001b[0;34m(\u001b[0m\u001b[0mself\u001b[0m\u001b[0;34m,\u001b[0m \u001b[0mname\u001b[0m\u001b[0;34m,\u001b[0m \u001b[0mvalue\u001b[0m\u001b[0;34m)\u001b[0m\u001b[0;34m:\u001b[0m\u001b[0;34m\u001b[0m\u001b[0m\n",
      "\u001b[0;31mAttributeError\u001b[0m: 'Darknet' object has no attribute 'numel'"
     ]
    }
   ],
   "source": [
    "sum(p.numel() for p in darknet.parameters() if p.requires_grad)"
   ]
  },
  {
   "cell_type": "code",
   "execution_count": 22,
   "metadata": {},
   "outputs": [
    {
     "data": {
      "text/plain": [
       "tensor([0., 0., 0., 0., 0., 0., 0., 0., 0., 0., 0., 0., 0., 0., 0., 0., 0., 0., 0., 0., 0., 0., 0., 0.,\n",
       "        0., 0., 0., 0., 0., 0., 0., 0.])"
      ]
     },
     "execution_count": 22,
     "metadata": {},
     "output_type": "execute_result"
    }
   ],
   "source": [
    "bn.runn.data"
   ]
  },
  {
   "cell_type": "code",
   "execution_count": null,
   "metadata": {},
   "outputs": [],
   "source": [
    "nn.BatchNorm2d()"
   ]
  }
 ],
 "metadata": {
  "kernelspec": {
   "display_name": "Python 3",
   "language": "python",
   "name": "python3"
  },
  "language_info": {
   "codemirror_mode": {
    "name": "ipython",
    "version": 3
   },
   "file_extension": ".py",
   "mimetype": "text/x-python",
   "name": "python",
   "nbconvert_exporter": "python",
   "pygments_lexer": "ipython3",
   "version": "3.5.6"
  }
 },
 "nbformat": 4,
 "nbformat_minor": 2
}
